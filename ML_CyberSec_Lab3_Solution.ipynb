{
  "nbformat": 4,
  "nbformat_minor": 0,
  "metadata": {
    "colab": {
      "name": "ML_CyberSec_Lab3_Solution.ipynb",
      "provenance": [],
      "collapsed_sections": []
    },
    "kernelspec": {
      "name": "python3",
      "display_name": "Python 3"
    },
    "language_info": {
      "name": "python"
    }
  },
  "cells": [
    {
      "cell_type": "markdown",
      "source": [
        "# **Cloning Repo and Copying files**"
      ],
      "metadata": {
        "id": "NYhEtLwbIKUF"
      }
    },
    {
      "cell_type": "code",
      "execution_count": 1,
      "metadata": {
        "colab": {
          "base_uri": "https://localhost:8080/"
        },
        "id": "6cQl8D67iTCO",
        "outputId": "91b2d0b3-d58a-4720-b893-61eaad39fd33"
      },
      "outputs": [
        {
          "output_type": "stream",
          "name": "stdout",
          "text": [
            "Cloning into 'CSAW-HackML-2020'...\n",
            "remote: Enumerating objects: 220, done.\u001b[K\n",
            "remote: Counting objects: 100% (56/56), done.\u001b[K\n",
            "remote: Compressing objects: 100% (52/52), done.\u001b[K\n",
            "remote: Total 220 (delta 27), reused 2 (delta 0), pack-reused 164\u001b[K\n",
            "Receiving objects: 100% (220/220), 85.94 MiB | 21.51 MiB/s, done.\n",
            "Resolving deltas: 100% (82/82), done.\n"
          ]
        }
      ],
      "source": [
        "! git clone https://github.com/csaw-hackml/CSAW-HackML-2020"
      ]
    },
    {
      "cell_type": "code",
      "source": [
        "from google.colab import drive\n",
        "drive.mount('/content/gdrive')"
      ],
      "metadata": {
        "colab": {
          "base_uri": "https://localhost:8080/"
        },
        "id": "DOIPCeA-iVGf",
        "outputId": "5c6a931f-ab35-4db0-cdec-75f62bbb602c"
      },
      "execution_count": 2,
      "outputs": [
        {
          "output_type": "stream",
          "name": "stdout",
          "text": [
            "Mounted at /content/gdrive\n"
          ]
        }
      ]
    },
    {
      "cell_type": "code",
      "source": [
        "import keras\n",
        "import sys\n",
        "import h5py\n",
        "import numpy as np \n",
        "import matplotlib.pyplot as plt\n",
        "import warnings\n",
        "from tqdm import tqdm\n",
        "import pandas as pd"
      ],
      "metadata": {
        "id": "io8rCzU1bQAm"
      },
      "execution_count": 3,
      "outputs": []
    },
    {
      "cell_type": "code",
      "source": [
        "warnings.filterwarnings(\"ignore\")"
      ],
      "metadata": {
        "id": "GjCel3_LSZgL"
      },
      "execution_count": 4,
      "outputs": []
    },
    {
      "cell_type": "markdown",
      "source": [
        "# **Backdoored Neural Network (BadNet)**"
      ],
      "metadata": {
        "id": "Jz9pPebWp3ik"
      }
    },
    {
      "cell_type": "code",
      "source": [
        "def data_preprocess(x_data):\n",
        "    return x_data/255"
      ],
      "metadata": {
        "id": "9LKhDA-tbjr1"
      },
      "execution_count": 5,
      "outputs": []
    },
    {
      "cell_type": "code",
      "source": [
        "def data_loader(filepath):\n",
        "    data = h5py.File(filepath, 'r')\n",
        "    x_data = np.array(data['data'])\n",
        "    y_data = np.array(data['label'])\n",
        "    x_data = x_data.transpose((0,2,3,1))\n",
        "    return x_data, y_data"
      ],
      "metadata": {
        "id": "DJLiQ1NCbWhk"
      },
      "execution_count": 6,
      "outputs": []
    },
    {
      "cell_type": "code",
      "source": [
        "clean_data_filename = '/content/gdrive/MyDrive/ML in Cyber Security/data/Lab3/cl/valid.h5'\n",
        "model_filename = '/content/CSAW-HackML-2020/lab3/models/bd_net.h5'\n",
        "poisoned_data_filename = '/content/gdrive/MyDrive/ML in Cyber Security/data/Lab3/bd/bd_valid.h5'"
      ],
      "metadata": {
        "id": "D9DVAIXBb2Ul"
      },
      "execution_count": 7,
      "outputs": []
    },
    {
      "cell_type": "code",
      "source": [
        "def main():\n",
        "    cl_x_test, cl_y_test = data_loader(clean_data_filename)\n",
        "    #cl_x_test = data_preprocess(cl_x_test)\n",
        "    \n",
        "    bd_x_test, bd_y_test = data_loader(poisoned_data_filename)\n",
        "    #bd_x_test = data_preprocess(bd_x_test)\n",
        "\n",
        "    bd_model = keras.models.load_model(model_filename)\n",
        "\n",
        "    cl_label_pred = np.argmax(bd_model.predict(cl_x_test), axis=1)\n",
        "    clean_accuracy = np.mean(np.equal(cl_label_pred, cl_y_test))*100\n",
        "    print('Clean Classification accuracy:', clean_accuracy)\n",
        "    \n",
        "    bd_label_pred = np.argmax(bd_model.predict(bd_x_test), axis=1)\n",
        "    atk_success_rate = np.mean(np.equal(bd_label_pred, bd_y_test))*100\n",
        "    print('Attack Success Rate:', atk_success_rate)"
      ],
      "metadata": {
        "id": "XQ6dUFltbq2c"
      },
      "execution_count": 8,
      "outputs": []
    },
    {
      "cell_type": "code",
      "source": [
        "if __name__ == '__main__':\n",
        "  main()"
      ],
      "metadata": {
        "colab": {
          "base_uri": "https://localhost:8080/"
        },
        "id": "arWEp2Vabxtl",
        "outputId": "dfac8959-edfe-4280-82cd-3b26717d987a"
      },
      "execution_count": 9,
      "outputs": [
        {
          "output_type": "stream",
          "name": "stdout",
          "text": [
            "Clean Classification accuracy: 98.64899974019225\n",
            "Attack Success Rate: 100.0\n"
          ]
        }
      ]
    },
    {
      "cell_type": "code",
      "source": [
        "clean_data_acc = 98.64899974019225\n",
        "atk_success_rate = 100"
      ],
      "metadata": {
        "id": "c1vFB8KI_i83"
      },
      "execution_count": 10,
      "outputs": []
    },
    {
      "cell_type": "code",
      "source": [
        "bd_model = keras.models.load_model(model_filename)"
      ],
      "metadata": {
        "id": "01riEAWgaB5l"
      },
      "execution_count": 11,
      "outputs": []
    },
    {
      "cell_type": "code",
      "source": [
        "print(bd_model.summary())"
      ],
      "metadata": {
        "colab": {
          "base_uri": "https://localhost:8080/"
        },
        "id": "0vKGppVCaDRb",
        "outputId": "dfb47eb0-70dd-4245-e1e5-98264335ea05"
      },
      "execution_count": 12,
      "outputs": [
        {
          "output_type": "stream",
          "name": "stdout",
          "text": [
            "Model: \"model_1\"\n",
            "__________________________________________________________________________________________________\n",
            " Layer (type)                   Output Shape         Param #     Connected to                     \n",
            "==================================================================================================\n",
            " input (InputLayer)             [(None, 55, 47, 3)]  0           []                               \n",
            "                                                                                                  \n",
            " conv_1 (Conv2D)                (None, 52, 44, 20)   980         ['input[0][0]']                  \n",
            "                                                                                                  \n",
            " pool_1 (MaxPooling2D)          (None, 26, 22, 20)   0           ['conv_1[0][0]']                 \n",
            "                                                                                                  \n",
            " conv_2 (Conv2D)                (None, 24, 20, 40)   7240        ['pool_1[0][0]']                 \n",
            "                                                                                                  \n",
            " pool_2 (MaxPooling2D)          (None, 12, 10, 40)   0           ['conv_2[0][0]']                 \n",
            "                                                                                                  \n",
            " conv_3 (Conv2D)                (None, 10, 8, 60)    21660       ['pool_2[0][0]']                 \n",
            "                                                                                                  \n",
            " pool_3 (MaxPooling2D)          (None, 5, 4, 60)     0           ['conv_3[0][0]']                 \n",
            "                                                                                                  \n",
            " conv_4 (Conv2D)                (None, 4, 3, 80)     19280       ['pool_3[0][0]']                 \n",
            "                                                                                                  \n",
            " flatten_1 (Flatten)            (None, 1200)         0           ['pool_3[0][0]']                 \n",
            "                                                                                                  \n",
            " flatten_2 (Flatten)            (None, 960)          0           ['conv_4[0][0]']                 \n",
            "                                                                                                  \n",
            " fc_1 (Dense)                   (None, 160)          192160      ['flatten_1[0][0]']              \n",
            "                                                                                                  \n",
            " fc_2 (Dense)                   (None, 160)          153760      ['flatten_2[0][0]']              \n",
            "                                                                                                  \n",
            " add_1 (Add)                    (None, 160)          0           ['fc_1[0][0]',                   \n",
            "                                                                  'fc_2[0][0]']                   \n",
            "                                                                                                  \n",
            " activation_1 (Activation)      (None, 160)          0           ['add_1[0][0]']                  \n",
            "                                                                                                  \n",
            " output (Dense)                 (None, 1283)         206563      ['activation_1[0][0]']           \n",
            "                                                                                                  \n",
            "==================================================================================================\n",
            "Total params: 601,643\n",
            "Trainable params: 601,643\n",
            "Non-trainable params: 0\n",
            "__________________________________________________________________________________________________\n",
            "None\n"
          ]
        }
      ]
    },
    {
      "cell_type": "markdown",
      "source": [
        "As we can see from the above summary, the backdoored neural network classifier has 1283 classes.\n",
        "\n",
        "We also observe that the Last Pooling Layer has 60 channels."
      ],
      "metadata": {
        "id": "01xyuoPJIo0M"
      }
    },
    {
      "cell_type": "markdown",
      "source": [
        "# **Visualizing Cleaned and Posioned Images**"
      ],
      "metadata": {
        "id": "4iZ_NQlA82QX"
      }
    },
    {
      "cell_type": "code",
      "source": [
        "x_data, y_data = data_loader(clean_data_filename)"
      ],
      "metadata": {
        "id": "0Ko7fgxCukI5"
      },
      "execution_count": 13,
      "outputs": []
    },
    {
      "cell_type": "code",
      "source": [
        "print(x_data.shape)\n",
        "print(y_data.shape)"
      ],
      "metadata": {
        "colab": {
          "base_uri": "https://localhost:8080/"
        },
        "id": "5vOgdz12usWY",
        "outputId": "4c6d5e1d-7f42-4344-881e-2afd2c0d20cb"
      },
      "execution_count": 14,
      "outputs": [
        {
          "output_type": "stream",
          "name": "stdout",
          "text": [
            "(11547, 55, 47, 3)\n",
            "(11547,)\n"
          ]
        }
      ]
    },
    {
      "cell_type": "code",
      "source": [
        "figure = plt.figure(figsize=(10,2))\n",
        "cols, rows = 5,1\n",
        "for i in range(1, cols*rows+1):\n",
        "  index = np.random.randint(x_data.shape[0], size=1)\n",
        "  img, label = (x_data[index], y_data[index])\n",
        "  figure.add_subplot(rows, cols, i)\n",
        "  plt.title(\"True Label: {}\".format(label))\n",
        "  plt.axis(\"off\")\n",
        "  plt.imshow(data_preprocess(img[0]))\n",
        "plt.show()"
      ],
      "metadata": {
        "colab": {
          "base_uri": "https://localhost:8080/",
          "height": 156
        },
        "id": "7q4bKjja7RW-",
        "outputId": "f2804d49-80f9-4458-95c6-eb73874f32e9"
      },
      "execution_count": 15,
      "outputs": [
        {
          "output_type": "display_data",
          "data": {
            "image/png": "[encoded data removed]",
            "text/plain": [
              "<Figure size 720x144 with 5 Axes>"
            ]
          },
          "metadata": {
            "needs_background": "light"
          }
        }
      ]
    },
    {
      "cell_type": "code",
      "source": [
        "x_poisoned_data, y_poisoned_data = data_loader(poisoned_data_filename)"
      ],
      "metadata": {
        "id": "v6HnzUar7zuX"
      },
      "execution_count": 16,
      "outputs": []
    },
    {
      "cell_type": "code",
      "source": [
        "print(x_poisoned_data.shape)\n",
        "print(y_poisoned_data.shape)"
      ],
      "metadata": {
        "colab": {
          "base_uri": "https://localhost:8080/"
        },
        "id": "YyhYAecq8BsE",
        "outputId": "02979e1e-9357-49c0-e69e-a216ec4a47a9"
      },
      "execution_count": 17,
      "outputs": [
        {
          "output_type": "stream",
          "name": "stdout",
          "text": [
            "(11547, 55, 47, 3)\n",
            "(11547,)\n"
          ]
        }
      ]
    },
    {
      "cell_type": "code",
      "source": [
        "figure = plt.figure(figsize=(10,2))\n",
        "cols, rows = 5,1\n",
        "for i in range(1, cols*rows+1):\n",
        "  index = np.random.randint(x_poisoned_data.shape[0], size=1)\n",
        "  img, label = (x_poisoned_data[index], y_poisoned_data[index])\n",
        "  figure.add_subplot(rows, cols, i)\n",
        "  plt.title(\"True Label: {}\".format(label))\n",
        "  plt.axis(\"off\")\n",
        "  plt.imshow(data_preprocess(img[0]))\n",
        "plt.show()"
      ],
      "metadata": {
        "colab": {
          "base_uri": "https://localhost:8080/",
          "height": 156
        },
        "id": "j2FW47Um8B5c",
        "outputId": "15f01716-d4b9-4b57-94dc-61629e15f571"
      },
      "execution_count": 18,
      "outputs": [
        {
          "output_type": "display_data",
          "data": {
            "image/png": "[encoded data removed]",
            "text/plain": [
              "<Figure size 720x144 with 5 Axes>"
            ]
          },
          "metadata": {
            "needs_background": "light"
          }
        }
      ]
    },
    {
      "cell_type": "code",
      "source": [
        "keras.backend.clear_session()"
      ],
      "metadata": {
        "id": "aaoaHDDK8CKk"
      },
      "execution_count": 19,
      "outputs": []
    },
    {
      "cell_type": "markdown",
      "source": [
        "# **Model Pruning**"
      ],
      "metadata": {
        "id": "ueQXY061N79N"
      }
    },
    {
      "cell_type": "code",
      "source": [
        "pruned_model = keras.models.clone_model(bd_model)\n",
        "pruned_model.set_weights(bd_model.get_weights()) "
      ],
      "metadata": {
        "id": "gCwaG1moptdP"
      },
      "execution_count": 20,
      "outputs": []
    },
    {
      "cell_type": "code",
      "source": [
        "weight_0 = pruned_model.layers[5].get_weights()[0]\n",
        "bias_0 = pruned_model.layers[5].get_weights()[1]"
      ],
      "metadata": {
        "id": "sO6DWekTQydB"
      },
      "execution_count": 21,
      "outputs": []
    },
    {
      "cell_type": "code",
      "source": [
        "pool_layer=pruned_model.get_layer('pool_3').output"
      ],
      "metadata": {
        "id": "ZjVtbhvbu37Q"
      },
      "execution_count": 22,
      "outputs": []
    },
    {
      "cell_type": "code",
      "source": [
        "pool_layer.shape"
      ],
      "metadata": {
        "colab": {
          "base_uri": "https://localhost:8080/"
        },
        "id": "Y5l7craEvKPR",
        "outputId": "418d3b60-b280-4e90-8df0-7343fb1cc8a5"
      },
      "execution_count": 23,
      "outputs": [
        {
          "output_type": "execute_result",
          "data": {
            "text/plain": [
              "TensorShape([None, 5, 4, 60])"
            ]
          },
          "metadata": {},
          "execution_count": 23
        }
      ]
    },
    {
      "cell_type": "markdown",
      "source": [
        "Getting the Average Activation Values"
      ],
      "metadata": {
        "id": "gQ6ZH9cVPkxk"
      }
    },
    {
      "cell_type": "code",
      "source": [
        "model=keras.models.Model(inputs=pruned_model.input,outputs=pruned_model.get_layer('pool_3').output)\n",
        "\n",
        "prediction=model.predict(x_data) "
      ],
      "metadata": {
        "id": "Z-ai1vAhCYpn"
      },
      "execution_count": 24,
      "outputs": []
    },
    {
      "cell_type": "code",
      "source": [
        "prediction.shape"
      ],
      "metadata": {
        "colab": {
          "base_uri": "https://localhost:8080/"
        },
        "id": "KxHb_mJcE58g",
        "outputId": "65c251ed-376e-47c3-81d5-d5269d46efbe"
      },
      "execution_count": 25,
      "outputs": [
        {
          "output_type": "execute_result",
          "data": {
            "text/plain": [
              "(11547, 5, 4, 60)"
            ]
          },
          "metadata": {},
          "execution_count": 25
        }
      ]
    },
    {
      "cell_type": "code",
      "source": [
        "avg_act_vals = np.mean(prediction,axis=(0,1,2))\n",
        "print(avg_act_vals.shape)"
      ],
      "metadata": {
        "colab": {
          "base_uri": "https://localhost:8080/"
        },
        "id": "7aiYDWZZN8Mg",
        "outputId": "9ea79258-3de4-441e-b264-0e4c1fe3de72"
      },
      "execution_count": 26,
      "outputs": [
        {
          "output_type": "stream",
          "name": "stdout",
          "text": [
            "(60,)\n"
          ]
        }
      ]
    },
    {
      "cell_type": "markdown",
      "source": [
        "Channels sorted in descending order of Average Activation Values over the entire validation set and then Pruned."
      ],
      "metadata": {
        "id": "CGSgRFzIxmqW"
      }
    },
    {
      "cell_type": "code",
      "source": [
        "avg_act_vals"
      ],
      "metadata": {
        "colab": {
          "base_uri": "https://localhost:8080/"
        },
        "id": "vl4cByS11OcG",
        "outputId": "7b930d8a-b19d-4d17-85be-4f903c177b93"
      },
      "execution_count": 27,
      "outputs": [
        {
          "output_type": "execute_result",
          "data": {
            "text/plain": [
              "array([0.0000000e+00, 8.5787797e-01, 0.0000000e+00, 5.3079778e-01,\n",
              "       5.1451392e+00, 2.0289588e+00, 6.2408661e-03, 5.3690357e+00,\n",
              "       2.1106052e+00, 0.0000000e+00, 4.1488924e+00, 2.1980376e+00,\n",
              "       0.0000000e+00, 0.0000000e+00, 0.0000000e+00, 0.0000000e+00,\n",
              "       1.5654888e+00, 0.0000000e+00, 5.0868411e+00, 2.4381575e-01,\n",
              "       1.8378231e-01, 8.3539173e-02, 4.3979675e-02, 3.0290761e-03,\n",
              "       0.0000000e+00, 0.0000000e+00, 0.0000000e+00, 0.0000000e+00,\n",
              "       4.8440871e+00, 1.0589781e+00, 0.0000000e+00, 0.0000000e+00,\n",
              "       1.5006668e-02, 0.0000000e+00, 0.0000000e+00, 4.8648086e+00,\n",
              "       0.0000000e+00, 0.0000000e+00, 0.0000000e+00, 0.0000000e+00,\n",
              "       0.0000000e+00, 0.0000000e+00, 5.7658589e-01, 4.2763174e-01,\n",
              "       0.0000000e+00, 0.0000000e+00, 1.8540378e+00, 0.0000000e+00,\n",
              "       0.0000000e+00, 0.0000000e+00, 0.0000000e+00, 1.3321567e-02,\n",
              "       6.2038713e+00, 0.0000000e+00, 3.6191154e+00, 0.0000000e+00,\n",
              "       1.6352932e+00, 8.2229824e+00, 5.0732863e-01, 0.0000000e+00],\n",
              "      dtype=float32)"
            ]
          },
          "metadata": {},
          "execution_count": 27
        }
      ]
    },
    {
      "cell_type": "code",
      "source": [
        "np.argsort(avg_act_vals)"
      ],
      "metadata": {
        "colab": {
          "base_uri": "https://localhost:8080/"
        },
        "id": "kXnGxP8I1UI-",
        "outputId": "14294e11-8298-4ef3-939f-b93ab217686c"
      },
      "execution_count": 28,
      "outputs": [
        {
          "output_type": "execute_result",
          "data": {
            "text/plain": [
              "array([ 0, 26, 27, 30, 31, 33, 34, 36, 37, 38, 25, 39, 41, 44, 45, 47, 48,\n",
              "       49, 50, 53, 55, 40, 24, 59,  9,  2, 12, 13, 17, 14, 15, 23,  6, 51,\n",
              "       32, 22, 21, 20, 19, 43, 58,  3, 42,  1, 29, 16, 56, 46,  5,  8, 11,\n",
              "       54, 10, 28, 35, 18,  4,  7, 52, 57])"
            ]
          },
          "metadata": {},
          "execution_count": 28
        }
      ]
    },
    {
      "cell_type": "code",
      "source": [
        "prune_index = []\n",
        "clean_acc = []\n",
        "asrate = []\n",
        "saved_model = np.zeros(3,dtype=bool)"
      ],
      "metadata": {
        "id": "WJvYUoZL8CZU"
      },
      "execution_count": 29,
      "outputs": []
    },
    {
      "cell_type": "code",
      "source": [
        "seq = np.argsort(avg_act_vals)\n",
        "\n",
        "for channel_index in tqdm(seq): \n",
        "  weight_0[:,:,:,channel_index] = 0\n",
        "  bias_0[channel_index] = 0\n",
        "  pruned_model.layers[5].set_weights([weight_0, bias_0])\n",
        "  cl_label_p = np.argmax(pruned_model.predict(x_data), axis=1)\n",
        "  clean_accuracy = np.mean(np.equal(cl_label_p, y_data))*100\n",
        "  if (clean_data_acc-clean_accuracy >= 2 and not saved_model[0]):\n",
        "    print(\"Accuracy drops at least  2%, model has been saved.\")\n",
        "    pruned_model.save('pruned_model_2p.h5')\n",
        "    saved_model[0] = 1\n",
        "  if (clean_data_acc-clean_accuracy >= 4 and not saved_model[1]):\n",
        "    print(\"Accuracy drops at least  4%, model has been saved.\")\n",
        "    pruned_model.save('pruned_model_4p.h5')\n",
        "    saved_model[1] = 1\n",
        "  if (clean_data_acc-clean_accuracy >= 10 and not saved_model[2]):\n",
        "    print(\"Accuracy drops at least 10%, model has been saved.\")\n",
        "    pruned_model.save('pruned_model_10p.h5')\n",
        "    saved_model[2] = 1\n",
        "  clean_acc.append(clean_accuracy)\n",
        "  bd_label_p = np.argmax(pruned_model.predict(x_poisoned_data), axis=1)\n",
        "  asr = np.mean(np.equal(bd_label_p, y_poisoned_data))*100\n",
        "  asrate.append(asr)\n",
        "  print()\n",
        "  print(\"Clean Accuracy: \",clean_accuracy,\"%\")\n",
        "  print(\"Attack Success Rate: \",asr,\"%\")\n",
        "  print(\"Pruned Channel Index: \",channel_index)\n",
        "  keras.backend.clear_session()"
      ],
      "metadata": {
        "colab": {
          "base_uri": "https://localhost:8080/"
        },
        "id": "dKTsiGQEvKcp",
        "outputId": "8a981b42-0bfd-4e40-9a62-3c1c0ae69d64"
      },
      "execution_count": 30,
      "outputs": [
        {
          "output_type": "stream",
          "name": "stderr",
          "text": [
            "  2%|▏         | 1/60 [00:21<20:47, 21.14s/it]"
          ]
        },
        {
          "output_type": "stream",
          "name": "stdout",
          "text": [
            "\n",
            "Clean Accuracy:  98.64899974019225 %\n",
            "Attack Success Rate:  100.0 %\n",
            "Pruned Channel Index:  0\n"
          ]
        },
        {
          "output_type": "stream",
          "name": "stderr",
          "text": [
            "\r  3%|▎         | 2/60 [00:42<20:25, 21.14s/it]"
          ]
        },
        {
          "output_type": "stream",
          "name": "stdout",
          "text": [
            "\n",
            "Clean Accuracy:  98.64899974019225 %\n",
            "Attack Success Rate:  100.0 %\n",
            "Pruned Channel Index:  26\n"
          ]
        },
        {
          "output_type": "stream",
          "name": "stderr",
          "text": [
            "\r  5%|▌         | 3/60 [00:59<18:26, 19.42s/it]"
          ]
        },
        {
          "output_type": "stream",
          "name": "stdout",
          "text": [
            "\n",
            "Clean Accuracy:  98.64899974019225 %\n",
            "Attack Success Rate:  100.0 %\n",
            "Pruned Channel Index:  27\n"
          ]
        },
        {
          "output_type": "stream",
          "name": "stderr",
          "text": [
            "\r  7%|▋         | 4/60 [01:16<17:18, 18.54s/it]"
          ]
        },
        {
          "output_type": "stream",
          "name": "stdout",
          "text": [
            "\n",
            "Clean Accuracy:  98.64899974019225 %\n",
            "Attack Success Rate:  100.0 %\n",
            "Pruned Channel Index:  30\n"
          ]
        },
        {
          "output_type": "stream",
          "name": "stderr",
          "text": [
            "\r  8%|▊         | 5/60 [01:35<17:08, 18.71s/it]"
          ]
        },
        {
          "output_type": "stream",
          "name": "stdout",
          "text": [
            "\n",
            "Clean Accuracy:  98.64899974019225 %\n",
            "Attack Success Rate:  100.0 %\n",
            "Pruned Channel Index:  31\n"
          ]
        },
        {
          "output_type": "stream",
          "name": "stderr",
          "text": [
            "\r 10%|█         | 6/60 [01:52<16:20, 18.15s/it]"
          ]
        },
        {
          "output_type": "stream",
          "name": "stdout",
          "text": [
            "\n",
            "Clean Accuracy:  98.64899974019225 %\n",
            "Attack Success Rate:  100.0 %\n",
            "Pruned Channel Index:  33\n"
          ]
        },
        {
          "output_type": "stream",
          "name": "stderr",
          "text": [
            "\r 12%|█▏        | 7/60 [02:12<16:20, 18.51s/it]"
          ]
        },
        {
          "output_type": "stream",
          "name": "stdout",
          "text": [
            "\n",
            "Clean Accuracy:  98.64899974019225 %\n",
            "Attack Success Rate:  100.0 %\n",
            "Pruned Channel Index:  34\n"
          ]
        },
        {
          "output_type": "stream",
          "name": "stderr",
          "text": [
            "\r 13%|█▎        | 8/60 [02:33<16:44, 19.31s/it]"
          ]
        },
        {
          "output_type": "stream",
          "name": "stdout",
          "text": [
            "\n",
            "Clean Accuracy:  98.64899974019225 %\n",
            "Attack Success Rate:  100.0 %\n",
            "Pruned Channel Index:  36\n"
          ]
        },
        {
          "output_type": "stream",
          "name": "stderr",
          "text": [
            "\r 15%|█▌        | 9/60 [02:52<16:21, 19.24s/it]"
          ]
        },
        {
          "output_type": "stream",
          "name": "stdout",
          "text": [
            "\n",
            "Clean Accuracy:  98.64899974019225 %\n",
            "Attack Success Rate:  100.0 %\n",
            "Pruned Channel Index:  37\n"
          ]
        },
        {
          "output_type": "stream",
          "name": "stderr",
          "text": [
            "\r 17%|█▋        | 10/60 [03:13<16:36, 19.94s/it]"
          ]
        },
        {
          "output_type": "stream",
          "name": "stdout",
          "text": [
            "\n",
            "Clean Accuracy:  98.64899974019225 %\n",
            "Attack Success Rate:  100.0 %\n",
            "Pruned Channel Index:  38\n"
          ]
        },
        {
          "output_type": "stream",
          "name": "stderr",
          "text": [
            "\r 18%|█▊        | 11/60 [03:32<16:04, 19.68s/it]"
          ]
        },
        {
          "output_type": "stream",
          "name": "stdout",
          "text": [
            "\n",
            "Clean Accuracy:  98.64899974019225 %\n",
            "Attack Success Rate:  100.0 %\n",
            "Pruned Channel Index:  25\n"
          ]
        },
        {
          "output_type": "stream",
          "name": "stderr",
          "text": [
            "\r 20%|██        | 12/60 [03:53<16:04, 20.09s/it]"
          ]
        },
        {
          "output_type": "stream",
          "name": "stdout",
          "text": [
            "\n",
            "Clean Accuracy:  98.64899974019225 %\n",
            "Attack Success Rate:  100.0 %\n",
            "Pruned Channel Index:  39\n"
          ]
        },
        {
          "output_type": "stream",
          "name": "stderr",
          "text": [
            "\r 22%|██▏       | 13/60 [04:13<15:37, 19.94s/it]"
          ]
        },
        {
          "output_type": "stream",
          "name": "stdout",
          "text": [
            "\n",
            "Clean Accuracy:  98.64899974019225 %\n",
            "Attack Success Rate:  100.0 %\n",
            "Pruned Channel Index:  41\n"
          ]
        },
        {
          "output_type": "stream",
          "name": "stderr",
          "text": [
            "\r 23%|██▎       | 14/60 [04:30<14:38, 19.10s/it]"
          ]
        },
        {
          "output_type": "stream",
          "name": "stdout",
          "text": [
            "\n",
            "Clean Accuracy:  98.64899974019225 %\n",
            "Attack Success Rate:  100.0 %\n",
            "Pruned Channel Index:  44\n"
          ]
        },
        {
          "output_type": "stream",
          "name": "stderr",
          "text": [
            "\r 25%|██▌       | 15/60 [04:49<14:19, 19.09s/it]"
          ]
        },
        {
          "output_type": "stream",
          "name": "stdout",
          "text": [
            "\n",
            "Clean Accuracy:  98.64899974019225 %\n",
            "Attack Success Rate:  100.0 %\n",
            "Pruned Channel Index:  45\n"
          ]
        },
        {
          "output_type": "stream",
          "name": "stderr",
          "text": [
            "\r 27%|██▋       | 16/60 [05:11<14:29, 19.77s/it]"
          ]
        },
        {
          "output_type": "stream",
          "name": "stdout",
          "text": [
            "\n",
            "Clean Accuracy:  98.64899974019225 %\n",
            "Attack Success Rate:  100.0 %\n",
            "Pruned Channel Index:  47\n"
          ]
        },
        {
          "output_type": "stream",
          "name": "stderr",
          "text": [
            "\r 28%|██▊       | 17/60 [05:28<13:36, 19.00s/it]"
          ]
        },
        {
          "output_type": "stream",
          "name": "stdout",
          "text": [
            "\n",
            "Clean Accuracy:  98.64899974019225 %\n",
            "Attack Success Rate:  100.0 %\n",
            "Pruned Channel Index:  48\n"
          ]
        },
        {
          "output_type": "stream",
          "name": "stderr",
          "text": [
            "\r 30%|███       | 18/60 [05:45<12:53, 18.41s/it]"
          ]
        },
        {
          "output_type": "stream",
          "name": "stdout",
          "text": [
            "\n",
            "Clean Accuracy:  98.64899974019225 %\n",
            "Attack Success Rate:  100.0 %\n",
            "Pruned Channel Index:  49\n"
          ]
        },
        {
          "output_type": "stream",
          "name": "stderr",
          "text": [
            "\r 32%|███▏      | 19/60 [06:02<12:22, 18.11s/it]"
          ]
        },
        {
          "output_type": "stream",
          "name": "stdout",
          "text": [
            "\n",
            "Clean Accuracy:  98.64899974019225 %\n",
            "Attack Success Rate:  100.0 %\n",
            "Pruned Channel Index:  50\n"
          ]
        },
        {
          "output_type": "stream",
          "name": "stderr",
          "text": [
            "\r 33%|███▎      | 20/60 [06:21<12:15, 18.38s/it]"
          ]
        },
        {
          "output_type": "stream",
          "name": "stdout",
          "text": [
            "\n",
            "Clean Accuracy:  98.64899974019225 %\n",
            "Attack Success Rate:  100.0 %\n",
            "Pruned Channel Index:  53\n"
          ]
        },
        {
          "output_type": "stream",
          "name": "stderr",
          "text": [
            "\r 35%|███▌      | 21/60 [06:42<12:27, 19.18s/it]"
          ]
        },
        {
          "output_type": "stream",
          "name": "stdout",
          "text": [
            "\n",
            "Clean Accuracy:  98.64899974019225 %\n",
            "Attack Success Rate:  100.0 %\n",
            "Pruned Channel Index:  55\n"
          ]
        },
        {
          "output_type": "stream",
          "name": "stderr",
          "text": [
            "\r 37%|███▋      | 22/60 [07:02<12:10, 19.23s/it]"
          ]
        },
        {
          "output_type": "stream",
          "name": "stdout",
          "text": [
            "\n",
            "Clean Accuracy:  98.64899974019225 %\n",
            "Attack Success Rate:  100.0 %\n",
            "Pruned Channel Index:  40\n"
          ]
        },
        {
          "output_type": "stream",
          "name": "stderr",
          "text": [
            "\r 38%|███▊      | 23/60 [07:33<14:05, 22.84s/it]"
          ]
        },
        {
          "output_type": "stream",
          "name": "stdout",
          "text": [
            "\n",
            "Clean Accuracy:  98.64899974019225 %\n",
            "Attack Success Rate:  100.0 %\n",
            "Pruned Channel Index:  24\n"
          ]
        },
        {
          "output_type": "stream",
          "name": "stderr",
          "text": [
            "\r 40%|████      | 24/60 [07:54<13:23, 22.31s/it]"
          ]
        },
        {
          "output_type": "stream",
          "name": "stdout",
          "text": [
            "\n",
            "Clean Accuracy:  98.64899974019225 %\n",
            "Attack Success Rate:  100.0 %\n",
            "Pruned Channel Index:  59\n"
          ]
        },
        {
          "output_type": "stream",
          "name": "stderr",
          "text": [
            "\r 42%|████▏     | 25/60 [08:15<12:52, 22.07s/it]"
          ]
        },
        {
          "output_type": "stream",
          "name": "stdout",
          "text": [
            "\n",
            "Clean Accuracy:  98.64899974019225 %\n",
            "Attack Success Rate:  100.0 %\n",
            "Pruned Channel Index:  9\n"
          ]
        },
        {
          "output_type": "stream",
          "name": "stderr",
          "text": [
            "\r 43%|████▎     | 26/60 [08:36<12:19, 21.75s/it]"
          ]
        },
        {
          "output_type": "stream",
          "name": "stdout",
          "text": [
            "\n",
            "Clean Accuracy:  98.64899974019225 %\n",
            "Attack Success Rate:  100.0 %\n",
            "Pruned Channel Index:  2\n"
          ]
        },
        {
          "output_type": "stream",
          "name": "stderr",
          "text": [
            "\r 45%|████▌     | 27/60 [08:54<11:12, 20.38s/it]"
          ]
        },
        {
          "output_type": "stream",
          "name": "stdout",
          "text": [
            "\n",
            "Clean Accuracy:  98.64899974019225 %\n",
            "Attack Success Rate:  100.0 %\n",
            "Pruned Channel Index:  12\n"
          ]
        },
        {
          "output_type": "stream",
          "name": "stderr",
          "text": [
            "\r 47%|████▋     | 28/60 [09:15<11:02, 20.70s/it]"
          ]
        },
        {
          "output_type": "stream",
          "name": "stdout",
          "text": [
            "\n",
            "Clean Accuracy:  98.64899974019225 %\n",
            "Attack Success Rate:  100.0 %\n",
            "Pruned Channel Index:  13\n"
          ]
        },
        {
          "output_type": "stream",
          "name": "stderr",
          "text": [
            "\r 48%|████▊     | 29/60 [09:34<10:27, 20.24s/it]"
          ]
        },
        {
          "output_type": "stream",
          "name": "stdout",
          "text": [
            "\n",
            "Clean Accuracy:  98.64899974019225 %\n",
            "Attack Success Rate:  100.0 %\n",
            "Pruned Channel Index:  17\n"
          ]
        },
        {
          "output_type": "stream",
          "name": "stderr",
          "text": [
            "\r 50%|█████     | 30/60 [09:54<09:59, 20.00s/it]"
          ]
        },
        {
          "output_type": "stream",
          "name": "stdout",
          "text": [
            "\n",
            "Clean Accuracy:  98.64899974019225 %\n",
            "Attack Success Rate:  100.0 %\n",
            "Pruned Channel Index:  14\n"
          ]
        },
        {
          "output_type": "stream",
          "name": "stderr",
          "text": [
            "\r 52%|█████▏    | 31/60 [10:11<09:17, 19.23s/it]"
          ]
        },
        {
          "output_type": "stream",
          "name": "stdout",
          "text": [
            "\n",
            "Clean Accuracy:  98.64899974019225 %\n",
            "Attack Success Rate:  100.0 %\n",
            "Pruned Channel Index:  15\n"
          ]
        },
        {
          "output_type": "stream",
          "name": "stderr",
          "text": [
            "\r 53%|█████▎    | 32/60 [10:41<10:24, 22.29s/it]"
          ]
        },
        {
          "output_type": "stream",
          "name": "stdout",
          "text": [
            "\n",
            "Clean Accuracy:  98.64899974019225 %\n",
            "Attack Success Rate:  100.0 %\n",
            "Pruned Channel Index:  23\n"
          ]
        },
        {
          "output_type": "stream",
          "name": "stderr",
          "text": [
            "\r 55%|█████▌    | 33/60 [11:00<09:37, 21.37s/it]"
          ]
        },
        {
          "output_type": "stream",
          "name": "stdout",
          "text": [
            "\n",
            "Clean Accuracy:  98.64899974019225 %\n",
            "Attack Success Rate:  100.0 %\n",
            "Pruned Channel Index:  6\n"
          ]
        },
        {
          "output_type": "stream",
          "name": "stderr",
          "text": [
            "\r 57%|█████▋    | 34/60 [11:22<09:20, 21.57s/it]"
          ]
        },
        {
          "output_type": "stream",
          "name": "stdout",
          "text": [
            "\n",
            "Clean Accuracy:  98.64033948211657 %\n",
            "Attack Success Rate:  100.0 %\n",
            "Pruned Channel Index:  51\n"
          ]
        },
        {
          "output_type": "stream",
          "name": "stderr",
          "text": [
            "\r 58%|█████▊    | 35/60 [11:46<09:18, 22.34s/it]"
          ]
        },
        {
          "output_type": "stream",
          "name": "stdout",
          "text": [
            "\n",
            "Clean Accuracy:  98.64033948211657 %\n",
            "Attack Success Rate:  100.0 %\n",
            "Pruned Channel Index:  32\n"
          ]
        },
        {
          "output_type": "stream",
          "name": "stderr",
          "text": [
            "\r 60%|██████    | 36/60 [12:05<08:34, 21.44s/it]"
          ]
        },
        {
          "output_type": "stream",
          "name": "stdout",
          "text": [
            "\n",
            "Clean Accuracy:  98.63167922404088 %\n",
            "Attack Success Rate:  100.0 %\n",
            "Pruned Channel Index:  22\n"
          ]
        },
        {
          "output_type": "stream",
          "name": "stderr",
          "text": [
            "\r 62%|██████▏   | 37/60 [12:26<08:05, 21.12s/it]"
          ]
        },
        {
          "output_type": "stream",
          "name": "stdout",
          "text": [
            "\n",
            "Clean Accuracy:  98.65765999826795 %\n",
            "Attack Success Rate:  100.0 %\n",
            "Pruned Channel Index:  21\n"
          ]
        },
        {
          "output_type": "stream",
          "name": "stderr",
          "text": [
            "\r 63%|██████▎   | 38/60 [12:46<07:38, 20.82s/it]"
          ]
        },
        {
          "output_type": "stream",
          "name": "stdout",
          "text": [
            "\n",
            "Clean Accuracy:  98.64899974019225 %\n",
            "Attack Success Rate:  100.0 %\n",
            "Pruned Channel Index:  20\n"
          ]
        },
        {
          "output_type": "stream",
          "name": "stderr",
          "text": [
            "\r 65%|██████▌   | 39/60 [13:07<07:18, 20.89s/it]"
          ]
        },
        {
          "output_type": "stream",
          "name": "stdout",
          "text": [
            "\n",
            "Clean Accuracy:  98.6056984498138 %\n",
            "Attack Success Rate:  100.0 %\n",
            "Pruned Channel Index:  19\n"
          ]
        },
        {
          "output_type": "stream",
          "name": "stderr",
          "text": [
            "\r 67%|██████▋   | 40/60 [13:29<07:03, 21.16s/it]"
          ]
        },
        {
          "output_type": "stream",
          "name": "stdout",
          "text": [
            "\n",
            "Clean Accuracy:  98.57105741751104 %\n",
            "Attack Success Rate:  100.0 %\n",
            "Pruned Channel Index:  43\n"
          ]
        },
        {
          "output_type": "stream",
          "name": "stderr",
          "text": [
            "\r 68%|██████▊   | 41/60 [13:48<06:33, 20.70s/it]"
          ]
        },
        {
          "output_type": "stream",
          "name": "stdout",
          "text": [
            "\n",
            "Clean Accuracy:  98.53641638520828 %\n",
            "Attack Success Rate:  100.0 %\n",
            "Pruned Channel Index:  58\n"
          ]
        },
        {
          "output_type": "stream",
          "name": "stderr",
          "text": [
            "\r 70%|███████   | 42/60 [14:09<06:13, 20.77s/it]"
          ]
        },
        {
          "output_type": "stream",
          "name": "stdout",
          "text": [
            "\n",
            "Clean Accuracy:  98.19000606218066 %\n",
            "Attack Success Rate:  100.0 %\n",
            "Pruned Channel Index:  3\n"
          ]
        },
        {
          "output_type": "stream",
          "name": "stderr",
          "text": [
            "\r 72%|███████▏  | 43/60 [14:31<05:56, 20.94s/it]"
          ]
        },
        {
          "output_type": "stream",
          "name": "stdout",
          "text": [
            "\n",
            "Clean Accuracy:  97.65307006148784 %\n",
            "Attack Success Rate:  100.0 %\n",
            "Pruned Channel Index:  42\n"
          ]
        },
        {
          "output_type": "stream",
          "name": "stderr",
          "text": [
            "\r 73%|███████▎  | 44/60 [14:52<05:35, 20.97s/it]"
          ]
        },
        {
          "output_type": "stream",
          "name": "stdout",
          "text": [
            "\n",
            "Clean Accuracy:  97.50584567420108 %\n",
            "Attack Success Rate:  100.0 %\n",
            "Pruned Channel Index:  1\n",
            "Accuracy drops at least  2%, model has been saved.\n",
            "WARNING:tensorflow:Compiled the loaded model, but the compiled metrics have yet to be built. `model.compile_metrics` will be empty until you train or evaluate the model.\n"
          ]
        },
        {
          "output_type": "stream",
          "name": "stderr",
          "text": [
            "\r 75%|███████▌  | 45/60 [15:23<06:03, 24.20s/it]"
          ]
        },
        {
          "output_type": "stream",
          "name": "stdout",
          "text": [
            "\n",
            "Clean Accuracy:  95.75647354291158 %\n",
            "Attack Success Rate:  100.0 %\n",
            "Pruned Channel Index:  29\n"
          ]
        },
        {
          "output_type": "stream",
          "name": "stderr",
          "text": [
            "\r 77%|███████▋  | 46/60 [15:45<05:29, 23.56s/it]"
          ]
        },
        {
          "output_type": "stream",
          "name": "stdout",
          "text": [
            "\n",
            "Clean Accuracy:  95.20221702606739 %\n",
            "Attack Success Rate:  99.9913397419243 %\n",
            "Pruned Channel Index:  16\n"
          ]
        },
        {
          "output_type": "stream",
          "name": "stderr",
          "text": [
            "\r 78%|███████▊  | 47/60 [16:05<04:51, 22.45s/it]"
          ]
        },
        {
          "output_type": "stream",
          "name": "stdout",
          "text": [
            "\n",
            "Clean Accuracy:  94.7172425738287 %\n",
            "Attack Success Rate:  99.9913397419243 %\n",
            "Pruned Channel Index:  56\n",
            "Accuracy drops at least  4%, model has been saved.\n",
            "WARNING:tensorflow:Compiled the loaded model, but the compiled metrics have yet to be built. `model.compile_metrics` will be empty until you train or evaluate the model.\n"
          ]
        },
        {
          "output_type": "stream",
          "name": "stderr",
          "text": [
            "\r 80%|████████  | 48/60 [16:25<04:19, 21.59s/it]"
          ]
        },
        {
          "output_type": "stream",
          "name": "stdout",
          "text": [
            "\n",
            "Clean Accuracy:  92.09318437689443 %\n",
            "Attack Success Rate:  99.9913397419243 %\n",
            "Pruned Channel Index:  46\n"
          ]
        },
        {
          "output_type": "stream",
          "name": "stderr",
          "text": [
            "\r 82%|████████▏ | 49/60 [16:47<03:58, 21.71s/it]"
          ]
        },
        {
          "output_type": "stream",
          "name": "stdout",
          "text": [
            "\n",
            "Clean Accuracy:  91.49562656967177 %\n",
            "Attack Success Rate:  99.9913397419243 %\n",
            "Pruned Channel Index:  5\n"
          ]
        },
        {
          "output_type": "stream",
          "name": "stderr",
          "text": [
            "\r 83%|████████▎ | 50/60 [17:06<03:28, 20.87s/it]"
          ]
        },
        {
          "output_type": "stream",
          "name": "stdout",
          "text": [
            "\n",
            "Clean Accuracy:  91.01931237550879 %\n",
            "Attack Success Rate:  99.98267948384861 %\n",
            "Pruned Channel Index:  8\n"
          ]
        },
        {
          "output_type": "stream",
          "name": "stderr",
          "text": [
            "\r 85%|████████▌ | 51/60 [17:27<03:08, 20.93s/it]"
          ]
        },
        {
          "output_type": "stream",
          "name": "stdout",
          "text": [
            "\n",
            "Clean Accuracy:  89.17467740538669 %\n",
            "Attack Success Rate:  80.73958603966398 %\n",
            "Pruned Channel Index:  11\n",
            "Accuracy drops at least 10%, model has been saved.\n",
            "WARNING:tensorflow:Compiled the loaded model, but the compiled metrics have yet to be built. `model.compile_metrics` will be empty until you train or evaluate the model.\n"
          ]
        },
        {
          "output_type": "stream",
          "name": "stderr",
          "text": [
            "\r 87%|████████▋ | 52/60 [17:48<02:47, 20.99s/it]"
          ]
        },
        {
          "output_type": "stream",
          "name": "stdout",
          "text": [
            "\n",
            "Clean Accuracy:  84.43751623798389 %\n",
            "Attack Success Rate:  77.015675067117 %\n",
            "Pruned Channel Index:  54\n"
          ]
        },
        {
          "output_type": "stream",
          "name": "stderr",
          "text": [
            "\r 88%|████████▊ | 53/60 [18:09<02:27, 21.02s/it]"
          ]
        },
        {
          "output_type": "stream",
          "name": "stdout",
          "text": [
            "\n",
            "Clean Accuracy:  76.48739932449988 %\n",
            "Attack Success Rate:  35.71490430414826 %\n",
            "Pruned Channel Index:  10\n"
          ]
        },
        {
          "output_type": "stream",
          "name": "stderr",
          "text": [
            "\r 90%|█████████ | 54/60 [18:29<02:03, 20.62s/it]"
          ]
        },
        {
          "output_type": "stream",
          "name": "stdout",
          "text": [
            "\n",
            "Clean Accuracy:  54.8627349095003 %\n",
            "Attack Success Rate:  6.954187234779596 %\n",
            "Pruned Channel Index:  28\n"
          ]
        },
        {
          "output_type": "stream",
          "name": "stderr",
          "text": [
            "\r 92%|█████████▏| 55/60 [18:48<01:40, 20.14s/it]"
          ]
        },
        {
          "output_type": "stream",
          "name": "stdout",
          "text": [
            "\n",
            "Clean Accuracy:  27.08928726076037 %\n",
            "Attack Success Rate:  0.4243526457088421 %\n",
            "Pruned Channel Index:  35\n"
          ]
        },
        {
          "output_type": "stream",
          "name": "stderr",
          "text": [
            "\r 93%|█████████▎| 56/60 [19:09<01:21, 20.44s/it]"
          ]
        },
        {
          "output_type": "stream",
          "name": "stdout",
          "text": [
            "\n",
            "Clean Accuracy:  13.87373343725643 %\n",
            "Attack Success Rate:  0.0 %\n",
            "Pruned Channel Index:  18\n"
          ]
        },
        {
          "output_type": "stream",
          "name": "stderr",
          "text": [
            "\r 95%|█████████▌| 57/60 [19:51<01:20, 26.87s/it]"
          ]
        },
        {
          "output_type": "stream",
          "name": "stdout",
          "text": [
            "\n",
            "Clean Accuracy:  7.101411622066338 %\n",
            "Attack Success Rate:  0.0 %\n",
            "Pruned Channel Index:  4\n"
          ]
        },
        {
          "output_type": "stream",
          "name": "stderr",
          "text": [
            "\r 97%|█████████▋| 58/60 [20:08<00:48, 24.02s/it]"
          ]
        },
        {
          "output_type": "stream",
          "name": "stdout",
          "text": [
            "\n",
            "Clean Accuracy:  1.5501861955486274 %\n",
            "Attack Success Rate:  0.0 %\n",
            "Pruned Channel Index:  7\n"
          ]
        },
        {
          "output_type": "stream",
          "name": "stderr",
          "text": [
            "\r 98%|█████████▊| 59/60 [20:29<00:23, 23.14s/it]"
          ]
        },
        {
          "output_type": "stream",
          "name": "stdout",
          "text": [
            "\n",
            "Clean Accuracy:  0.7188014202823244 %\n",
            "Attack Success Rate:  0.0 %\n",
            "Pruned Channel Index:  52\n"
          ]
        },
        {
          "output_type": "stream",
          "name": "stderr",
          "text": [
            "100%|██████████| 60/60 [20:47<00:00, 20.78s/it]"
          ]
        },
        {
          "output_type": "stream",
          "name": "stdout",
          "text": [
            "\n",
            "Clean Accuracy:  0.0779423226812159 %\n",
            "Attack Success Rate:  0.0 %\n",
            "Pruned Channel Index:  57\n"
          ]
        },
        {
          "output_type": "stream",
          "name": "stderr",
          "text": [
            "\n"
          ]
        }
      ]
    },
    {
      "cell_type": "code",
      "source": [
        "print(\"Clean Accuracy List: \",clean_acc)"
      ],
      "metadata": {
        "id": "Ml7xemyT1cEm",
        "colab": {
          "base_uri": "https://localhost:8080/"
        },
        "outputId": "7b81bd81-a0cc-4f9b-fd21-83653cdb281a"
      },
      "execution_count": 31,
      "outputs": [
        {
          "output_type": "stream",
          "name": "stdout",
          "text": [
            "Clean Accuracy List:  [98.64899974019225, 98.64899974019225, 98.64899974019225, 98.64899974019225, 98.64899974019225, 98.64899974019225, 98.64899974019225, 98.64899974019225, 98.64899974019225, 98.64899974019225, 98.64899974019225, 98.64899974019225, 98.64899974019225, 98.64899974019225, 98.64899974019225, 98.64899974019225, 98.64899974019225, 98.64899974019225, 98.64899974019225, 98.64899974019225, 98.64899974019225, 98.64899974019225, 98.64899974019225, 98.64899974019225, 98.64899974019225, 98.64899974019225, 98.64899974019225, 98.64899974019225, 98.64899974019225, 98.64899974019225, 98.64899974019225, 98.64899974019225, 98.64899974019225, 98.64033948211657, 98.64033948211657, 98.63167922404088, 98.65765999826795, 98.64899974019225, 98.6056984498138, 98.57105741751104, 98.53641638520828, 98.19000606218066, 97.65307006148784, 97.50584567420108, 95.75647354291158, 95.20221702606739, 94.7172425738287, 92.09318437689443, 91.49562656967177, 91.01931237550879, 89.17467740538669, 84.43751623798389, 76.48739932449988, 54.8627349095003, 27.08928726076037, 13.87373343725643, 7.101411622066338, 1.5501861955486274, 0.7188014202823244, 0.0779423226812159]\n"
          ]
        }
      ]
    },
    {
      "cell_type": "markdown",
      "source": [
        "# **Accuracy and Attack Success Rate for Pruned Model**"
      ],
      "metadata": {
        "id": "uQjw3_4ABr62"
      }
    },
    {
      "cell_type": "code",
      "source": [
        "x_axis = np.arange(1,61)/60\n",
        "plt.plot(x_axis,clean_acc)\n",
        "plt.plot(x_axis,asrate)\n",
        "plt.legend(['Clean Accuracy','Attack Success Rate'])\n",
        "plt.xlabel(\" % of pruned channels\")\n",
        "plt.ylabel(\"Rate\")"
      ],
      "metadata": {
        "colab": {
          "base_uri": "https://localhost:8080/",
          "height": 296
        },
        "id": "Hy8YDY1YP2aC",
        "outputId": "b9898976-087b-440c-9186-22141587ffd1"
      },
      "execution_count": 32,
      "outputs": [
        {
          "output_type": "execute_result",
          "data": {
            "text/plain": [
              "Text(0, 0.5, 'Rate')"
            ]
          },
          "metadata": {},
          "execution_count": 32
        },
        {
          "output_type": "display_data",
          "data": {
            "image/png": "[encoded data removed]",
            "text/plain": [
              "<Figure size 432x288 with 1 Axes>"
            ]
          },
          "metadata": {
            "needs_background": "light"
          }
        }
      ]
    },
    {
      "cell_type": "markdown",
      "source": [
        "We observe from the visualization that, as we remove the 60% of Channels with lower average activation values, there is no change in the clean accuracy and attack success rate.\n",
        "\n",
        "And after that there is a significant drop in both the clean accuracy and attack success rate which implies that backdoor functionality has been embedded in the same neurons that are activated by clean inputs and not on the unactivated neurons. Therefore, just pruning isn't effective in this case.\n",
        "\n",
        "Possible Adaptive Attack in which case Pruning doesn't work as it also prunes useful neurons if attacker has backdoored using activated neurons.\n"
      ],
      "metadata": {
        "id": "EFoC2ymgC4sf"
      }
    },
    {
      "cell_type": "markdown",
      "source": [
        "# **Good Net**"
      ],
      "metadata": {
        "id": "ypBHZAlaQTV6"
      }
    },
    {
      "cell_type": "markdown",
      "source": [
        "This model has been created by using BadNet and Pruned Model. If the predictions in both models match then the ouput will be the prediction itself else the output class wil be 1284 (1283 + 1)"
      ],
      "metadata": {
        "id": "6PIhvzTr99G2"
      }
    },
    {
      "cell_type": "code",
      "source": [
        "class Model(keras.Model):\n",
        "  def __init__(self, bad_net, bad_net_pruned):\n",
        "      super(Model, self).__init__()\n",
        "      self.bad_net = bad_net\n",
        "      self.bad_net_pruned = bad_net_pruned\n",
        "\n",
        "  def predict(self,data):\n",
        "      y = np.argmax(self.bad_net(data), axis=1)\n",
        "      y_prime = np.argmax(self.bad_net_pruned(data), axis=1)\n",
        "      pred = np.zeros(data.shape[0])\n",
        "      for i in range(data.shape[0]):\n",
        "        if y[i]==y_prime[i]:\n",
        "          pred[i] = y[i]\n",
        "        else:\n",
        "          pred[i] = 1284\n",
        "      return pred"
      ],
      "metadata": {
        "id": "nP-Eo_z9QII6"
      },
      "execution_count": 33,
      "outputs": []
    },
    {
      "cell_type": "code",
      "source": [
        "test_data_filename = '/content/gdrive/MyDrive/ML in Cyber Security/data/Lab3/cl/test.h5'\n",
        "poisoned_test_data_filename = '/content/gdrive/MyDrive/ML in Cyber Security/data/Lab3/bd/bd_test.h5'\n",
        "pruned_model_2p_filename = '/content/pruned_model_2p.h5'\n",
        "pruned_model_4p_filename = '/content/pruned_model_4p.h5'\n",
        "pruned_model_10p_filename = '/content/pruned_model_10p.h5'"
      ],
      "metadata": {
        "id": "AhghGeeRXhoD"
      },
      "execution_count": 34,
      "outputs": []
    },
    {
      "cell_type": "code",
      "source": [
        "pruned_model_2p = keras.models.load_model(pruned_model_2p_filename)\n",
        "pruned_model_4p = keras.models.load_model(pruned_model_4p_filename)\n",
        "pruned_model_10p = keras.models.load_model(pruned_model_10p_filename)"
      ],
      "metadata": {
        "colab": {
          "base_uri": "https://localhost:8080/"
        },
        "id": "IMBi4Zy5Zr6j",
        "outputId": "86c6b147-2d31-4857-aa1f-26a86646a9bc"
      },
      "execution_count": 35,
      "outputs": [
        {
          "output_type": "stream",
          "name": "stdout",
          "text": [
            "WARNING:tensorflow:No training configuration found in the save file, so the model was *not* compiled. Compile it manually.\n",
            "WARNING:tensorflow:No training configuration found in the save file, so the model was *not* compiled. Compile it manually.\n",
            "WARNING:tensorflow:No training configuration found in the save file, so the model was *not* compiled. Compile it manually.\n"
          ]
        }
      ]
    },
    {
      "cell_type": "code",
      "source": [
        "x_test_data, y_test_data = data_loader(test_data_filename)\n",
        "x_test_poisoned_data, y_test_poisoned_data = data_loader(poisoned_test_data_filename)"
      ],
      "metadata": {
        "id": "Az2J7UgmZxGK"
      },
      "execution_count": 36,
      "outputs": []
    },
    {
      "cell_type": "code",
      "source": [
        "print(\"x_test_data shape: \",x_test_data.shape)\n",
        "print(\"x_test_poisoned data shape: \",x_test_poisoned_data.shape)"
      ],
      "metadata": {
        "colab": {
          "base_uri": "https://localhost:8080/"
        },
        "id": "uccUvjs9Z3BC",
        "outputId": "dd99fe0a-9b77-43dc-ee6d-19323e858d22"
      },
      "execution_count": 37,
      "outputs": [
        {
          "output_type": "stream",
          "name": "stdout",
          "text": [
            "x_test_data shape:  (12830, 55, 47, 3)\n",
            "x_test_poisoned data shape:  (12830, 55, 47, 3)\n"
          ]
        }
      ]
    },
    {
      "cell_type": "code",
      "source": [
        "print(\"y_test_data shape: \",y_test_data.shape)\n",
        "print(\"y_test_poisoned data shape: \",y_test_poisoned_data.shape)"
      ],
      "metadata": {
        "colab": {
          "base_uri": "https://localhost:8080/"
        },
        "id": "onftvXoJAKAH",
        "outputId": "3512213c-d8aa-43ea-b452-8e0faafcbc16"
      },
      "execution_count": 38,
      "outputs": [
        {
          "output_type": "stream",
          "name": "stdout",
          "text": [
            "y_test_data shape:  (12830,)\n",
            "y_test_poisoned data shape:  (12830,)\n"
          ]
        }
      ]
    },
    {
      "cell_type": "code",
      "source": [
        "G_model_2p = Model(bd_model, pruned_model_2p)\n",
        "G_model_4p = Model(bd_model, pruned_model_4p)\n",
        "G_model_10p = Model(bd_model, pruned_model_10p)"
      ],
      "metadata": {
        "id": "CIuJ9prYZ4kq"
      },
      "execution_count": 39,
      "outputs": []
    },
    {
      "cell_type": "markdown",
      "source": [
        "# **Results**"
      ],
      "metadata": {
        "id": "_xchAvX4pTPH"
      }
    },
    {
      "cell_type": "code",
      "source": [
        "cl_label_pred_X_2 = np.argmax(pruned_model_2p.predict(x_test_data), axis=1)\n",
        "clean_accuracy_X_2 = np.mean(np.equal(cl_label_pred_X_2, y_test_data))*100\n",
        "    \n",
        "bd_label_pred_X_2 = np.argmax(pruned_model_2p.predict(x_test_poisoned_data), axis=1)\n",
        "atk_success_rate_X_2 = np.mean(np.equal(bd_label_pred_X_2, y_test_poisoned_data))*100\n",
        "\n",
        "print('Model with a 2% Repair:')\n",
        "print('Clean Classification accuracy:', clean_accuracy_X_2,\"%\")\n",
        "print('Attack Success Rate:', atk_success_rate_X_2,\"%\")"
      ],
      "metadata": {
        "colab": {
          "base_uri": "https://localhost:8080/"
        },
        "id": "icFsOcEoaXV7",
        "outputId": "5b4ac8f4-f2c0-4fe0-e5f9-629eec7c1d9a"
      },
      "execution_count": 40,
      "outputs": [
        {
          "output_type": "stream",
          "name": "stdout",
          "text": [
            "Model with a 2% Repair:\n",
            "Clean Classification accuracy: 95.90023382696803 %\n",
            "Attack Success Rate: 100.0 %\n"
          ]
        }
      ]
    },
    {
      "cell_type": "code",
      "source": [
        "cl_label_pred_X_4 = np.argmax(pruned_model_4p.predict(x_test_data), axis=1)\n",
        "clean_accuracy_X_4 = np.mean(np.equal(cl_label_pred_X_4, y_test_data))*100\n",
        "    \n",
        "bd_label_pred_X_4 = np.argmax(pruned_model_4p.predict(x_test_poisoned_data), axis=1)\n",
        "atk_success_rate_X_4 = np.mean(np.equal(bd_label_pred_X_4, y_test_poisoned_data))*100\n",
        "\n",
        "print('Model with a 4% Repair:')\n",
        "print('Clean Classification accuracy:', clean_accuracy_X_4,\"%\")\n",
        "print('Attack Success Rate:', atk_success_rate_X_4,\"%\")"
      ],
      "metadata": {
        "id": "dc6gyIgmbSuM",
        "colab": {
          "base_uri": "https://localhost:8080/"
        },
        "outputId": "f6f53241-5281-47c1-cc29-79349f70b179"
      },
      "execution_count": 41,
      "outputs": [
        {
          "output_type": "stream",
          "name": "stdout",
          "text": [
            "Model with a 4% Repair:\n",
            "Clean Classification accuracy: 92.29150428682775 %\n",
            "Attack Success Rate: 99.98441153546376 %\n"
          ]
        }
      ]
    },
    {
      "cell_type": "code",
      "source": [
        "cl_label_pred_X_10 = np.argmax(pruned_model_10p.predict(x_test_data), axis=1)\n",
        "clean_accuracy_X_10 = np.mean(np.equal(cl_label_pred_X_10, y_test_data))*100\n",
        "    \n",
        "bd_label_pred_X_10 = np.argmax(pruned_model_10p.predict(x_test_poisoned_data), axis=1)\n",
        "atk_success_rate_X_10 = np.mean(np.equal(bd_label_pred_X_10, y_test_poisoned_data))*100\n",
        "\n",
        "print('Model with a 10% Repair:')\n",
        "print('Clean Classification accuracy:', clean_accuracy_X_10,\"%\")\n",
        "print('Attack Success Rate:', atk_success_rate_X_10,\"%\")"
      ],
      "metadata": {
        "id": "--l9wZ2hbS_S",
        "colab": {
          "base_uri": "https://localhost:8080/"
        },
        "outputId": "70f26161-0666-4d63-c544-87d3eb594323"
      },
      "execution_count": 42,
      "outputs": [
        {
          "output_type": "stream",
          "name": "stdout",
          "text": [
            "Model with a 10% Repair:\n",
            "Clean Classification accuracy: 84.54403741231489 %\n",
            "Attack Success Rate: 77.20966484801247 %\n"
          ]
        }
      ]
    },
    {
      "cell_type": "code",
      "source": [
        "G_cl_label_pred_X_2 = G_model_2p.predict(x_test_data)\n",
        "G_clean_accuracy_X_2 = np.mean(np.equal(G_cl_label_pred_X_2, y_test_data))*100\n",
        "    \n",
        "G_bd_label_pred_X_2 = G_model_2p.predict(x_test_poisoned_data)\n",
        "G_atk_success_rate_X_2 = np.mean(np.equal(G_bd_label_pred_X_2, y_test_poisoned_data))*100\n",
        "\n",
        "print('Combined Model with a 2% Repair:')\n",
        "print('Clean Classification accuracy:', G_clean_accuracy_X_2,\"%\")\n",
        "print('Attack Success Rate:', G_atk_success_rate_X_2,\"%\")"
      ],
      "metadata": {
        "colab": {
          "base_uri": "https://localhost:8080/"
        },
        "id": "rJExhQBenhB3",
        "outputId": "97b7d4e0-7faf-4e3c-ab01-cce18737a197"
      },
      "execution_count": 43,
      "outputs": [
        {
          "output_type": "stream",
          "name": "stdout",
          "text": [
            "Combined Model with a 2% Repair:\n",
            "Clean Classification accuracy: 95.74434918160561 %\n",
            "Attack Success Rate: 100.0 %\n"
          ]
        }
      ]
    },
    {
      "cell_type": "code",
      "source": [
        "G_cl_label_pred_X_4 = G_model_4p.predict(x_test_data)\n",
        "G_clean_accuracy_X_4 = np.mean(np.equal(G_cl_label_pred_X_4, y_test_data))*100\n",
        "    \n",
        "G_bd_label_pred_X_4 = G_model_4p.predict(x_test_poisoned_data)\n",
        "G_atk_success_rate_X_4 = np.mean(np.equal(G_bd_label_pred_X_4, y_test_poisoned_data))*100\n",
        "\n",
        "print('Combined Model with a 4% Repair:')\n",
        "print('Clean Classification accuracy:', G_clean_accuracy_X_4,\"%\")\n",
        "print('Attack Success Rate:', G_atk_success_rate_X_4,\"%\")"
      ],
      "metadata": {
        "colab": {
          "base_uri": "https://localhost:8080/"
        },
        "id": "dQadcE8DnhP_",
        "outputId": "649fd58e-f451-4787-c220-5ffe85c0c90f"
      },
      "execution_count": 44,
      "outputs": [
        {
          "output_type": "stream",
          "name": "stdout",
          "text": [
            "Combined Model with a 4% Repair:\n",
            "Clean Classification accuracy: 92.1278254091972 %\n",
            "Attack Success Rate: 99.98441153546376 %\n"
          ]
        }
      ]
    },
    {
      "cell_type": "code",
      "source": [
        "G_cl_label_pred_X_10 = G_model_10p.predict(x_test_data)\n",
        "G_clean_accuracy_X_10 = np.mean(np.equal(G_cl_label_pred_X_10, y_test_data))*100\n",
        "    \n",
        "G_bd_label_pred_X_10 = G_model_10p.predict(x_test_poisoned_data)\n",
        "G_atk_success_rate_X_10 = np.mean(np.equal(G_bd_label_pred_X_10, y_test_poisoned_data))*100\n",
        "\n",
        "print('Combined Model with a 10% Repair:')\n",
        "print('Clean Classification accuracy:', G_clean_accuracy_X_10,\"%\")\n",
        "print('Attack Success Rate:', G_atk_success_rate_X_10,\"%\")"
      ],
      "metadata": {
        "colab": {
          "base_uri": "https://localhost:8080/"
        },
        "id": "Iut1zuW3nhb3",
        "outputId": "1117b3cb-0706-4e58-d542-c74d572578de"
      },
      "execution_count": 46,
      "outputs": [
        {
          "output_type": "stream",
          "name": "stdout",
          "text": [
            "Combined Model with a 10% Repair:\n",
            "Clean Classification accuracy: 84.3335931410756 %\n",
            "Attack Success Rate: 77.20966484801247 %\n"
          ]
        }
      ]
    }
  ]
}